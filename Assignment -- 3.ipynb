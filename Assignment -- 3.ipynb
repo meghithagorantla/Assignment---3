{
 "cells": [
  {
   "cell_type": "code",
   "execution_count": 9,
   "id": "0da1d860",
   "metadata": {},
   "outputs": [
    {
     "name": "stdout",
     "output_type": "stream",
     "text": [
      "1\n",
      "2\n",
      "4\n",
      "5\n"
     ]
    }
   ],
   "source": [
    "#1) Write a Python program that prints all the numbers from \n",
    "#0 to 6 except 3 and 6.\n",
    "for z in range(1,6):\n",
    "    if z==3:\n",
    "        continue\n",
    "    if z==6:\n",
    "        continue\n",
    "    print(z)"
   ]
  },
  {
   "cell_type": "code",
   "execution_count": 3,
   "id": "0e20e08d",
   "metadata": {},
   "outputs": [
    {
     "name": "stdout",
     "output_type": "stream",
     "text": [
      "21\n"
     ]
    }
   ],
   "source": [
    "#2) Write a program to accept a number from a user and \n",
    "#calculate the sum of all numbers from 1 to a given number.\n",
    "x=[1,2,3,4,5,6]\n",
    "count=0\n",
    "for y in x:\n",
    "    count=count+y\n",
    "print(count)"
   ]
  },
  {
   "cell_type": "code",
   "execution_count": 6,
   "id": "66f1181b",
   "metadata": {},
   "outputs": [
    {
     "name": "stdout",
     "output_type": "stream",
     "text": [
      "number: 5\n",
      "5*1=5\n",
      "5*2=10\n",
      "5*3=15\n",
      "5*4=20\n",
      "5*5=25\n",
      "5*6=30\n",
      "5*7=35\n",
      "5*8=40\n",
      "5*9=45\n",
      "5*10=50\n"
     ]
    }
   ],
   "source": [
    "#3) Write a program to print multiplication table of a given \n",
    "#number(input).\n",
    "x=int(input(\"number: \"))\n",
    "for i in range(1,11):\n",
    "        print(\"{}*{}={}\".format(x,i,x*i))\n",
    "        \n",
    "        "
   ]
  },
  {
   "cell_type": "code",
   "execution_count": 1,
   "id": "cb663e7e",
   "metadata": {},
   "outputs": [
    {
     "name": "stdout",
     "output_type": "stream",
     "text": [
      "number: 323456\n",
      "6\n"
     ]
    }
   ],
   "source": [
    "#4) Write a program to count the total number of digits in a \n",
    "#number using a while loop.\n",
    "x=input(\"number: \")\n",
    "a=True\n",
    "b=0\n",
    "while a:\n",
    "    for y in x: \n",
    "        b=b+1\n",
    "        a=False\n",
    "    print(b)\n",
    "    \n",
    "\n",
    "\n",
    "                   "
   ]
  },
  {
   "cell_type": "code",
   "execution_count": 5,
   "id": "7a8e251b",
   "metadata": {},
   "outputs": [
    {
     "name": "stdout",
     "output_type": "stream",
     "text": [
      "enter number between 1 to 10: 4\n",
      "enter number between 1 to 10: 5\n",
      "enter number between 1 to 10: 2\n",
      "enter number between 1 to 10: 6\n",
      "enter number between 1 to 10: 8\n",
      "well guessed\n"
     ]
    }
   ],
   "source": [
    "#5) Write a Python program to guess a number between 1 to \n",
    "#User is prompted to enter a guess. If the user guesses wrong \n",
    "#then the prompt appears again until the guess is correct, on \n",
    "#successful guess, user will get a \"Well guessed!\" message, \n",
    "#and the program will exit.\n",
    "num=int(input(\"enter number between 1 to 10: \"))\n",
    "random_number=8\n",
    "while num!=random_number:\n",
    "    num=int(input(\"enter number between 1 to 10: \"))\n",
    "if num==random_number:\n",
    "    print(\"well guessed\")\n",
    "\n"
   ]
  },
  {
   "cell_type": "code",
   "execution_count": null,
   "id": "f46e4bac",
   "metadata": {},
   "outputs": [],
   "source": [
    "    "
   ]
  },
  {
   "cell_type": "code",
   "execution_count": null,
   "id": "2596156c",
   "metadata": {},
   "outputs": [],
   "source": []
  },
  {
   "cell_type": "code",
   "execution_count": 1,
   "id": "3cf1c1f6",
   "metadata": {},
   "outputs": [
    {
     "name": "stdout",
     "output_type": "stream",
     "text": [
      "['Fizz', 1, 2, 'Fizz', 4, 'Buzz', 'Fizz', 7, 8, 'Fizz', 'Buzz', 11, 'Fizz', 13, 14, 'Fizz', 16, 17, 'Fizz', 19]\n"
     ]
    }
   ],
   "source": [
    "#6) Write a Python program which iterates the integers from 1 \n",
    "#to 60. For multiples of three print \"Fizz\" instead of the\n",
    "#number and for the multiples of five print \"Buzz\". For \n",
    "#numbers which are multiples of both three and five print \n",
    "#\"FizzBuzz\".\n",
    "a=[]\n",
    "for x in range(0,20):\n",
    "    if x%3==0:\n",
    "        a.append(\"Fizz\")\n",
    "        continue\n",
    "    elif x%5==0:\n",
    "        a.append(\"Buzz\")\n",
    "        continue\n",
    "    elif x%3==0 and x%5==0:\n",
    "        a.append(\"FizzBuzz\")\n",
    "    else:\n",
    "        a.append(x)\n",
    "print(a)\n",
    "        \n",
    "    "
   ]
  },
  {
   "cell_type": "code",
   "execution_count": 23,
   "id": "c3e28ff4",
   "metadata": {},
   "outputs": [
    {
     "name": "stdout",
     "output_type": "stream",
     "text": [
      "total digits:3\n",
      "total letters:6\n"
     ]
    }
   ],
   "source": [
    "#7) Write a Python program that accepts a string and calculate \n",
    "#the number of digits and letters.\n",
    "x=\"maggie123\"\n",
    "digits=0\n",
    "letters=0\n",
    "for i in x:\n",
    "    if(i.isdigit()):\n",
    "        digits+=1\n",
    "    else:\n",
    "        letters+=1\n",
    "print(\"total digits:{}\".format(digits))\n",
    "print(\"total letters:{}\".format(letters))\n",
    "        \n",
    "\n",
    "    \n",
    "    \n",
    "    "
   ]
  },
  {
   "cell_type": "code",
   "execution_count": null,
   "id": "7ffe875b",
   "metadata": {},
   "outputs": [],
   "source": [
    "\n"
   ]
  },
  {
   "cell_type": "code",
   "execution_count": null,
   "id": "b208b614",
   "metadata": {},
   "outputs": [],
   "source": []
  },
  {
   "cell_type": "code",
   "execution_count": 2,
   "id": "6b5957c8",
   "metadata": {},
   "outputs": [
    {
     "name": "stdout",
     "output_type": "stream",
     "text": [
      "Please enter 10 values to findout their average :\n",
      "9\n",
      "6\n",
      "3\n",
      "8\n",
      "1\n",
      "2\n",
      "3\n",
      "2\n",
      "1\n",
      "2\n",
      "The average of given numbers = 3.7\n"
     ]
    }
   ],
   "source": [
    "#10) Write a program which takes 10 integers as input using loop \n",
    "#and print their average value on the screen\n",
    "#print(\"Please enter 10 values to findout their average :\")\n",
    "a=[]\n",
    "x=True\n",
    "while x:\n",
    "    num=int(input())\n",
    "    a.append(num)\n",
    "    if len(a)==10:\n",
    "        x=False\n",
    "    else:\n",
    "        continue\n",
    "total=sum(a)\n",
    "print(\"The average of given numbers = {}\".format(total/len(a)))"
   ]
  },
  {
   "cell_type": "code",
   "execution_count": 4,
   "id": "05126501",
   "metadata": {},
   "outputs": [
    {
     "name": "stdout",
     "output_type": "stream",
     "text": [
      "Type your input here : maggie@123\n",
      "maggie\n"
     ]
    }
   ],
   "source": [
    "#12) Write a Python program which will remove all digits or \n",
    "#any other characters from the string except alphabets\n",
    "name=input(\"Type your input here : \")\n",
    "x=\"\"\n",
    "for y in name:\n",
    "    if y.isalpha():\n",
    "        x+=y\n",
    "    else:\n",
    "        continue\n",
    "print(x)"
   ]
  },
  {
   "cell_type": "code",
   "execution_count": 5,
   "id": "dc088812",
   "metadata": {},
   "outputs": [
    {
     "name": "stdout",
     "output_type": "stream",
     "text": [
      "Type your input here : cherry@123\n",
      "cherry\n"
     ]
    }
   ],
   "source": [
    "name=input(\"Type your input here : \")\n",
    "x=\"\"\n",
    "a=True\n",
    "while a:\n",
    "    for y in name:\n",
    "        if y.isalpha():\n",
    "            x+=y\n",
    "        else:\n",
    "            continue\n",
    "    a=False\n",
    "print(x)"
   ]
  },
  {
   "cell_type": "code",
   "execution_count": 6,
   "id": "3a345188",
   "metadata": {},
   "outputs": [
    {
     "name": "stdout",
     "output_type": "stream",
     "text": [
      "Sum 30\n"
     ]
    }
   ],
   "source": [
    "#13) Write a python program to find the sum of all even \n",
    "#numbers from 0 to 10\n",
    "total=0\n",
    "for y in range(0,11):\n",
    "    if y%2==0:\n",
    "        total+=y\n",
    "print(\"Sum {}\".format(total))"
   ]
  },
  {
   "cell_type": "code",
   "execution_count": 7,
   "id": "845f8a08",
   "metadata": {},
   "outputs": [
    {
     "name": "stdout",
     "output_type": "stream",
     "text": [
      "Sum 30\n"
     ]
    }
   ],
   "source": [
    "total=0\n",
    "x=True\n",
    "while x:\n",
    "    for y in range(0,11):\n",
    "        if y%2==0:\n",
    "            total+=y\n",
    "    x=False\n",
    "print(\"Sum {}\".format(total))    "
   ]
  },
  {
   "cell_type": "code",
   "execution_count": 8,
   "id": "603f5607",
   "metadata": {},
   "outputs": [
    {
     "name": "stdout",
     "output_type": "stream",
     "text": [
      "number : 5\n",
      "5\n",
      "4\n",
      "3\n",
      "2\n",
      "1\n",
      "0\n"
     ]
    }
   ],
   "source": [
    "#14) Write a python program which will accept a digit and print\n",
    "#All the numbers before it till 0.\n",
    "num=int(input(\"number : \"))\n",
    "while num>=0:\n",
    "    print(num)\n",
    "    num-=1\n",
    "    "
   ]
  },
  {
   "cell_type": "code",
   "execution_count": 13,
   "id": "a2144c97",
   "metadata": {},
   "outputs": [
    {
     "ename": "SyntaxError",
     "evalue": "invalid syntax (3823788030.py, line 15)",
     "output_type": "error",
     "traceback": [
      "\u001b[1;36m  File \u001b[1;32m\"C:\\Users\\meghi\\AppData\\Local\\Temp\\ipykernel_5304\\3823788030.py\"\u001b[1;36m, line \u001b[1;32m15\u001b[0m\n\u001b[1;33m    print(\"The average of given numbers = {},product = {}\".format(total/len(a),prod*))\u001b[0m\n\u001b[1;37m                                                                                    ^\u001b[0m\n\u001b[1;31mSyntaxError\u001b[0m\u001b[1;31m:\u001b[0m invalid syntax\n"
     ]
    }
   ],
   "source": [
    "#11) Write a program which takes integer inputs from user until \n",
    "#he/she presses “q” (Ask to press q to quit after every integer \n",
    "#input). Print average and product of all numbers.\n",
    "a=[]\n",
    "x=True\n",
    "while x:\n",
    "    num=int(input())\n",
    "    a.append(num)\n",
    "    if len(a):\n",
    "        x=False\n",
    "    else:\n",
    "        continue\n",
    "total=sum(a)\n",
    "\n",
    "print(\"The average of given numbers = {},product = {}\".format(total/len(a),))"
   ]
  },
  {
   "cell_type": "code",
   "execution_count": 10,
   "id": "98c9ea75",
   "metadata": {},
   "outputs": [
    {
     "name": "stdout",
     "output_type": "stream",
     "text": [
      "enter password  Maggie@123\n",
      "valid Password\n"
     ]
    }
   ],
   "source": [
    "#8) Write a Python program to check the validity of password \n",
    "#Maximum length 16 characters. \n",
    "#input by users. \n",
    "#Validation:\n",
    "#At least 1 letter between [a-z] and 1 letter between [A-Z].\n",
    "#At least 1 number between [0-9]. \n",
    "#At least 1 character from [$#@].\n",
    "#Minimum length 6 characters.\n",
    "password=input(\"enter password  \")\n",
    "lower=0\n",
    "upper=0\n",
    "num=0\n",
    "sym=0\n",
    "symbol=[\"@\",\"$\",\"#\"]\n",
    "for elements in password:\n",
    "    if elements.isalpha():\n",
    "        if elements==elements.upper():\n",
    "            upper+=1\n",
    "        elif elements==elements.lower():\n",
    "            lower+=1\n",
    "    elif elements in symbol:\n",
    "        sym+=1\n",
    "    elif int(elements) in range(0,10):\n",
    "        num+=1\n",
    "if len(password)<6:\n",
    "    print(\"Your Password must contain atleast 6 charecters\")\n",
    "elif len(password)>16:\n",
    "    print(\"Your Password length is greater than limits, Please reduce some charecters\")\n",
    "elif num==0:\n",
    "    print(\"Please include numbers inside your password\")\n",
    "elif upper==0:\n",
    "    print(\"Please include upperr case letters inside your password\")\n",
    "elif lower==0:\n",
    "    print(\"Please include lower case letters inside your password\")\n",
    "elif sym==0:\n",
    "    print(\"Please include special symbols inside your password\")\n",
    "else:\n",
    "    print(\"valid Password\")"
   ]
  },
  {
   "cell_type": "code",
   "execution_count": 11,
   "id": "e32ab47e",
   "metadata": {},
   "outputs": [
    {
     "name": "stdout",
     "output_type": "stream",
     "text": [
      "enter a word maggie\n"
     ]
    },
    {
     "data": {
      "text/plain": [
       "'eiggam'"
      ]
     },
     "execution_count": 11,
     "metadata": {},
     "output_type": "execute_result"
    }
   ],
   "source": [
    "#9) Write a program in Python to reverse a word by using while loop\n",
    "#for loop.\n",
    "x=input(\"enter a word \")\n",
    "y=[]\n",
    "for i in range(0,len(x)):\n",
    "    y.append(x[i])\n",
    "\"\".join(y[::-1])"
   ]
  },
  {
   "cell_type": "code",
   "execution_count": 15,
   "id": "1e8ba077",
   "metadata": {},
   "outputs": [
    {
     "name": "stdout",
     "output_type": "stream",
     "text": [
      "num 1 : 5\n",
      "choose any symbol from +,-,*,/ : +\n",
      "num 2 : 4\n",
      "5+4= 9\n",
      "Press c to close : c\n"
     ]
    }
   ],
   "source": [
    "#15) Create a dynamic calculator which will run continually till \n",
    "#you press “c”\n",
    "x=int(input(\"num 1 : \"))\n",
    "opera=input(\"choose any symbol from +,-,*,/ : \")\n",
    "y=int(input(\"num 2 : \"))\n",
    "while True:\n",
    "    if opera==\"+\":\n",
    "        print(\"{}+{}= {}\".format(x,y,x+y))\n",
    "    elif opera==\"-\":\n",
    "        print(\"{}-{}= {}\".format(x,y,x-y))\n",
    "    elif opera==\"*\":\n",
    "        print(\"{}*{}= {}\".format(x,y,x*y))\n",
    "    elif opera==\"/\":\n",
    "        print(\"{}/{}= {}\".format(x,y,x/y))\n",
    "    new=input(\"Press c to close : \")\n",
    "    if new==\"c\":\n",
    "        break"
   ]
  },
  {
   "cell_type": "code",
   "execution_count": null,
   "id": "9d10bd35",
   "metadata": {},
   "outputs": [],
   "source": []
  }
 ],
 "metadata": {
  "kernelspec": {
   "display_name": "Python 3 (ipykernel)",
   "language": "python",
   "name": "python3"
  },
  "language_info": {
   "codemirror_mode": {
    "name": "ipython",
    "version": 3
   },
   "file_extension": ".py",
   "mimetype": "text/x-python",
   "name": "python",
   "nbconvert_exporter": "python",
   "pygments_lexer": "ipython3",
   "version": "3.9.13"
  }
 },
 "nbformat": 4,
 "nbformat_minor": 5
}
